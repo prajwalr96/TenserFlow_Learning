{
  "nbformat": 4,
  "nbformat_minor": 0,
  "metadata": {
    "colab": {
      "name": "Untitled8.ipynb",
      "provenance": [],
      "authorship_tag": "ABX9TyOEc8dmRUd6wU/TsTC0CQ6c",
      "include_colab_link": true
    },
    "kernelspec": {
      "name": "python3",
      "display_name": "Python 3"
    },
    "accelerator": "TPU"
  },
  "cells": [
    {
      "cell_type": "markdown",
      "metadata": {
        "id": "view-in-github",
        "colab_type": "text"
      },
      "source": [
        "<a href=\"https://colab.research.google.com/github/prajwalr96/TenserFlow_Learning/blob/master/Transfer_Learning.ipynb\" target=\"_parent\"><img src=\"https://colab.research.google.com/assets/colab-badge.svg\" alt=\"Open In Colab\"/></a>"
      ]
    },
    {
      "cell_type": "markdown",
      "metadata": {
        "id": "PzN5kajxCmVS"
      },
      "source": [
        "# Transfer Learning with Inception and dropout to prevent overfitting\r\n",
        "The idea behind Dropouts is that they remove a random number of neurons in your neural network. This works very well for two reasons: The first is that neighboring neurons often end up with similar weights, which can lead to overfitting, so dropping some out at random can remove this. The second is that often a neuron can over-weigh the input from a neuron in the previous layer, and can over specialize as a result. Thus, dropping out can break the neural network out of this potential bad habit! \r\n",
        "\r\n",
        "Check out Andrew's terrific video explaining dropouts here: https://www.youtube.com/watch?v=ARq74QuavAo\r\n",
        "\r\n",
        "\r\n",
        "\r\n",
        "# Make all the layers in the pre-trained model non-trainable : for layer in pre_trained_model.layers:\r\n",
        "    layer.trainable = False"
      ]
    },
    {
      "cell_type": "code",
      "metadata": {
        "colab": {
          "base_uri": "https://localhost:8080/"
        },
        "id": "Tbsi2ZRPCuEH",
        "outputId": "f881aeda-81d4-43be-d852-d7bb3aab9afa"
      },
      "source": [
        "import os\r\n",
        "\r\n",
        "from tensorflow.keras import layers\r\n",
        "from tensorflow.keras import Model\r\n",
        "!wget --no-check-certificate \\\r\n",
        "    https://storage.googleapis.com/mledu-datasets/inception_v3_weights_tf_dim_ordering_tf_kernels_notop.h5 \\\r\n",
        "    -O /tmp/inception_v3_weights_tf_dim_ordering_tf_kernels_notop.h5\r\n",
        "  \r\n",
        "from tensorflow.keras.applications.inception_v3 import InceptionV3\r\n",
        "\r\n",
        "local_weights_file = '/tmp/inception_v3_weights_tf_dim_ordering_tf_kernels_notop.h5'\r\n",
        "\r\n",
        "pre_trained_model = InceptionV3(input_shape = (150, 150, 3), \r\n",
        "                                include_top = False, \r\n",
        "                                weights = None)\r\n",
        "\r\n",
        "pre_trained_model.load_weights(local_weights_file)\r\n",
        "\r\n",
        "for layer in pre_trained_model.layers:\r\n",
        "  layer.trainable = False\r\n",
        "  \r\n",
        "# pre_trained_model.summary()\r\n",
        "\r\n",
        "last_layer = pre_trained_model.get_layer('mixed7')\r\n",
        "print('last layer output shape: ', last_layer.output_shape)\r\n",
        "last_output = last_layer.output"
      ],
      "execution_count": 1,
      "outputs": [
        {
          "output_type": "stream",
          "text": [
            "--2020-12-28 15:51:57--  https://storage.googleapis.com/mledu-datasets/inception_v3_weights_tf_dim_ordering_tf_kernels_notop.h5\n",
            "Resolving storage.googleapis.com (storage.googleapis.com)... 108.177.112.128, 172.217.212.128, 172.217.214.128, ...\n",
            "Connecting to storage.googleapis.com (storage.googleapis.com)|108.177.112.128|:443... connected.\n",
            "HTTP request sent, awaiting response... 200 OK\n",
            "Length: 87910968 (84M) [application/x-hdf]\n",
            "Saving to: ‘/tmp/inception_v3_weights_tf_dim_ordering_tf_kernels_notop.h5’\n",
            "\n",
            "/tmp/inception_v3_w 100%[===================>]  83.84M   114MB/s    in 0.7s    \n",
            "\n",
            "2020-12-28 15:51:58 (114 MB/s) - ‘/tmp/inception_v3_weights_tf_dim_ordering_tf_kernels_notop.h5’ saved [87910968/87910968]\n",
            "\n",
            "last layer output shape:  (None, 7, 7, 768)\n"
          ],
          "name": "stdout"
        }
      ]
    },
    {
      "cell_type": "code",
      "metadata": {
        "id": "ZDFLl5EgCg9Q"
      },
      "source": [
        "from tensorflow.keras.optimizers import RMSprop\r\n",
        "\r\n",
        "# Flatten the output layer to 1 dimension\r\n",
        "x = layers.Flatten()(last_output)\r\n",
        "# Add a fully connected layer with 1,024 hidden units and ReLU activation\r\n",
        "x = layers.Dense(1024, activation='relu')(x)\r\n",
        "# Add a dropout rate of 0.2\r\n",
        "x = layers.Dropout(0.2)(x)                  \r\n",
        "# Add a final sigmoid layer for classification\r\n",
        "x = layers.Dense  (1, activation='sigmoid')(x)           \r\n",
        "\r\n",
        "model = Model( pre_trained_model.input, x) \r\n",
        "\r\n",
        "model.compile(optimizer = RMSprop(lr=0.0001), \r\n",
        "              loss = 'binary_crossentropy', \r\n",
        "              metrics = ['accuracy'])\r\n"
      ],
      "execution_count": 3,
      "outputs": []
    },
    {
      "cell_type": "code",
      "metadata": {
        "colab": {
          "base_uri": "https://localhost:8080/"
        },
        "id": "GSjsHda3Cwb4",
        "outputId": "0b4978ef-088e-40ce-8ad2-cc9a3f11a086"
      },
      "source": [
        "!wget --no-check-certificate \\\r\n",
        "        https://storage.googleapis.com/mledu-datasets/cats_and_dogs_filtered.zip \\\r\n",
        "       -O /tmp/cats_and_dogs_filtered.zip\r\n",
        "\r\n",
        "from tensorflow.keras.preprocessing.image import ImageDataGenerator\r\n",
        "\r\n",
        "import os\r\n",
        "import zipfile\r\n",
        "\r\n",
        "local_zip = '//tmp/cats_and_dogs_filtered.zip'\r\n",
        "\r\n",
        "zip_ref = zipfile.ZipFile(local_zip, 'r')\r\n",
        "\r\n",
        "zip_ref.extractall('/tmp')\r\n",
        "zip_ref.close()\r\n",
        "\r\n",
        "# Define our example directories and files\r\n",
        "base_dir = '/tmp/cats_and_dogs_filtered'\r\n",
        "\r\n",
        "train_dir = os.path.join( base_dir, 'train')\r\n",
        "validation_dir = os.path.join( base_dir, 'validation')\r\n",
        "\r\n",
        "\r\n",
        "train_cats_dir = os.path.join(train_dir, 'cats') # Directory with our training cat pictures\r\n",
        "train_dogs_dir = os.path.join(train_dir, 'dogs') # Directory with our training dog pictures\r\n",
        "validation_cats_dir = os.path.join(validation_dir, 'cats') # Directory with our validation cat pictures\r\n",
        "validation_dogs_dir = os.path.join(validation_dir, 'dogs')# Directory with our validation dog pictures\r\n",
        "\r\n",
        "train_cat_fnames = os.listdir(train_cats_dir)\r\n",
        "train_dog_fnames = os.listdir(train_dogs_dir)\r\n",
        "\r\n",
        "# Add our data-augmentation parameters to ImageDataGenerator\r\n",
        "train_datagen = ImageDataGenerator(rescale = 1./255.,\r\n",
        "                                   rotation_range = 40,\r\n",
        "                                   width_shift_range = 0.2,\r\n",
        "                                   height_shift_range = 0.2,\r\n",
        "                                   shear_range = 0.2,\r\n",
        "                                   zoom_range = 0.2,\r\n",
        "                                   horizontal_flip = True)\r\n",
        "\r\n",
        "# Note that the validation data should not be augmented!\r\n",
        "test_datagen = ImageDataGenerator( rescale = 1.0/255. )\r\n",
        "\r\n",
        "# Flow training images in batches of 20 using train_datagen generator\r\n",
        "train_generator = train_datagen.flow_from_directory(train_dir,\r\n",
        "                                                    batch_size = 20,\r\n",
        "                                                    class_mode = 'binary', \r\n",
        "                                                    target_size = (150, 150))     \r\n",
        "\r\n",
        "# Flow validation images in batches of 20 using test_datagen generator\r\n",
        "validation_generator =  test_datagen.flow_from_directory( validation_dir,\r\n",
        "                                                          batch_size  = 20,\r\n",
        "                                                          class_mode  = 'binary', \r\n",
        "                                                          target_size = (150, 150))"
      ],
      "execution_count": 4,
      "outputs": [
        {
          "output_type": "stream",
          "text": [
            "--2020-12-28 15:52:16--  https://storage.googleapis.com/mledu-datasets/cats_and_dogs_filtered.zip\n",
            "Resolving storage.googleapis.com (storage.googleapis.com)... 173.194.198.128, 209.85.200.128, 172.217.212.128, ...\n",
            "Connecting to storage.googleapis.com (storage.googleapis.com)|173.194.198.128|:443... connected.\n",
            "HTTP request sent, awaiting response... 200 OK\n",
            "Length: 68606236 (65M) [application/zip]\n",
            "Saving to: ‘/tmp/cats_and_dogs_filtered.zip’\n",
            "\n",
            "/tmp/cats_and_dogs_ 100%[===================>]  65.43M  87.4MB/s    in 0.7s    \n",
            "\n",
            "2020-12-28 15:52:17 (87.4 MB/s) - ‘/tmp/cats_and_dogs_filtered.zip’ saved [68606236/68606236]\n",
            "\n",
            "Found 2000 images belonging to 2 classes.\n",
            "Found 1000 images belonging to 2 classes.\n"
          ],
          "name": "stdout"
        }
      ]
    },
    {
      "cell_type": "code",
      "metadata": {
        "colab": {
          "base_uri": "https://localhost:8080/"
        },
        "id": "zc8rInnXCxx3",
        "outputId": "95b9fd74-970c-4e75-9538-0202f54d7aac"
      },
      "source": [
        "history = model.fit(\r\n",
        "            train_generator,\r\n",
        "            validation_data = validation_generator,\r\n",
        "            steps_per_epoch = 100,\r\n",
        "            epochs = 20,\r\n",
        "            validation_steps = 50,\r\n",
        "            verbose = 2)"
      ],
      "execution_count": 5,
      "outputs": [
        {
          "output_type": "stream",
          "text": [
            "Epoch 1/20\n",
            "100/100 - 138s - loss: 0.3857 - accuracy: 0.8470 - val_loss: 0.1061 - val_accuracy: 0.9620\n",
            "Epoch 2/20\n",
            "100/100 - 139s - loss: 0.2133 - accuracy: 0.9130 - val_loss: 0.1001 - val_accuracy: 0.9650\n",
            "Epoch 3/20\n",
            "100/100 - 134s - loss: 0.2119 - accuracy: 0.9210 - val_loss: 0.1163 - val_accuracy: 0.9570\n",
            "Epoch 4/20\n",
            "100/100 - 135s - loss: 0.1934 - accuracy: 0.9290 - val_loss: 0.0967 - val_accuracy: 0.9640\n",
            "Epoch 5/20\n",
            "100/100 - 136s - loss: 0.1727 - accuracy: 0.9340 - val_loss: 0.2083 - val_accuracy: 0.9410\n",
            "Epoch 6/20\n",
            "100/100 - 136s - loss: 0.1800 - accuracy: 0.9345 - val_loss: 0.1213 - val_accuracy: 0.9620\n",
            "Epoch 7/20\n",
            "100/100 - 136s - loss: 0.1809 - accuracy: 0.9400 - val_loss: 0.1164 - val_accuracy: 0.9620\n",
            "Epoch 8/20\n",
            "100/100 - 137s - loss: 0.1832 - accuracy: 0.9350 - val_loss: 0.1135 - val_accuracy: 0.9630\n",
            "Epoch 9/20\n",
            "100/100 - 136s - loss: 0.1377 - accuracy: 0.9505 - val_loss: 0.1582 - val_accuracy: 0.9560\n",
            "Epoch 10/20\n",
            "100/100 - 135s - loss: 0.1564 - accuracy: 0.9485 - val_loss: 0.1083 - val_accuracy: 0.9690\n",
            "Epoch 11/20\n",
            "100/100 - 134s - loss: 0.1463 - accuracy: 0.9575 - val_loss: 0.1250 - val_accuracy: 0.9650\n",
            "Epoch 12/20\n",
            "100/100 - 134s - loss: 0.1450 - accuracy: 0.9480 - val_loss: 0.1292 - val_accuracy: 0.9620\n",
            "Epoch 13/20\n",
            "100/100 - 134s - loss: 0.1607 - accuracy: 0.9525 - val_loss: 0.0878 - val_accuracy: 0.9770\n",
            "Epoch 14/20\n",
            "100/100 - 134s - loss: 0.1258 - accuracy: 0.9615 - val_loss: 0.1342 - val_accuracy: 0.9650\n",
            "Epoch 15/20\n",
            "100/100 - 134s - loss: 0.1453 - accuracy: 0.9520 - val_loss: 0.0989 - val_accuracy: 0.9680\n",
            "Epoch 16/20\n",
            "100/100 - 134s - loss: 0.1363 - accuracy: 0.9585 - val_loss: 0.1414 - val_accuracy: 0.9650\n",
            "Epoch 17/20\n",
            "100/100 - 134s - loss: 0.1299 - accuracy: 0.9575 - val_loss: 0.1558 - val_accuracy: 0.9600\n",
            "Epoch 18/20\n",
            "100/100 - 134s - loss: 0.1355 - accuracy: 0.9585 - val_loss: 0.0965 - val_accuracy: 0.9700\n",
            "Epoch 19/20\n",
            "100/100 - 134s - loss: 0.1156 - accuracy: 0.9550 - val_loss: 0.1240 - val_accuracy: 0.9690\n",
            "Epoch 20/20\n",
            "100/100 - 134s - loss: 0.1352 - accuracy: 0.9565 - val_loss: 0.1327 - val_accuracy: 0.9640\n"
          ],
          "name": "stdout"
        }
      ]
    },
    {
      "cell_type": "code",
      "metadata": {
        "colab": {
          "base_uri": "https://localhost:8080/",
          "height": 298
        },
        "id": "LE0n-cOyCzH9",
        "outputId": "61bf9ece-e218-4b3a-e454-e392da2f3006"
      },
      "source": [
        "import matplotlib.pyplot as plt\r\n",
        "acc = history.history['accuracy']\r\n",
        "val_acc = history.history['val_accuracy']\r\n",
        "loss = history.history['loss']\r\n",
        "val_loss = history.history['val_loss']\r\n",
        "\r\n",
        "epochs = range(len(acc))\r\n",
        "\r\n",
        "plt.plot(epochs, acc, 'r', label='Training accuracy')\r\n",
        "plt.plot(epochs, val_acc, 'b', label='Validation accuracy')\r\n",
        "plt.title('Training and validation accuracy')\r\n",
        "plt.legend(loc=0)\r\n",
        "plt.figure()\r\n",
        "\r\n",
        "\r\n",
        "plt.show()"
      ],
      "execution_count": 6,
      "outputs": [
        {
          "output_type": "display_data",
          "data": {
            "image/png": "[encoded data removed]",
            "text/plain": [
              "<Figure size 432x288 with 1 Axes>"
            ]
          },
          "metadata": {
            "tags": [],
            "needs_background": "light"
          }
        },
        {
          "output_type": "display_data",
          "data": {
            "text/plain": [
              "<Figure size 432x288 with 0 Axes>"
            ]
          },
          "metadata": {
            "tags": []
          }
        }
      ]
    }
  ]
}