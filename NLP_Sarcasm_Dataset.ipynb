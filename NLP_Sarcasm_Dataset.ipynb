{
  "nbformat": 4,
  "nbformat_minor": 0,
  "metadata": {
    "colab": {
      "name": "Untitled12.ipynb",
      "provenance": [],
      "authorship_tag": "ABX9TyP3tftQ6DDXBFzd8l/XUB7v",
      "include_colab_link": true
    },
    "kernelspec": {
      "name": "python3",
      "display_name": "Python 3"
    },
    "accelerator": "GPU"
  },
  "cells": [
    {
      "cell_type": "markdown",
      "metadata": {
        "id": "view-in-github",
        "colab_type": "text"
      },
      "source": [
        "<a href=\"https://colab.research.google.com/github/prajwalr96/TenserFlow_Learning/blob/master/NLP_Sarcasm_Dataset.ipynb\" target=\"_parent\"><img src=\"https://colab.research.google.com/assets/colab-badge.svg\" alt=\"Open In Colab\"/></a>"
      ]
    },
    {
      "cell_type": "markdown",
      "metadata": {
        "id": "G94dLcqCTN2c"
      },
      "source": [
        "# NLP Sarcasm dataset"
      ]
    },
    {
      "cell_type": "code",
      "metadata": {
        "id": "mVDspWf_THv1"
      },
      "source": [
        "# Run this to ensure TensorFlow 2.x is used\r\n",
        "try:\r\n",
        "  # %tensorflow_version only exists in Colab.\r\n",
        "  %tensorflow_version 2.x\r\n",
        "except Exception:\r\n",
        "  pass"
      ],
      "execution_count": 1,
      "outputs": []
    },
    {
      "cell_type": "code",
      "metadata": {
        "id": "I3zVyelTTS8V"
      },
      "source": [
        "import json\r\n",
        "import tensorflow as tf\r\n",
        "\r\n",
        "from tensorflow.keras.preprocessing.text import Tokenizer\r\n",
        "from tensorflow.keras.preprocessing.sequence import pad_sequences"
      ],
      "execution_count": 3,
      "outputs": []
    },
    {
      "cell_type": "code",
      "metadata": {
        "id": "yBXW4axHTVcd"
      },
      "source": [
        "vocab_size = 10000\r\n",
        "embedding_dim = 16\r\n",
        "max_length = 100\r\n",
        "trunc_type='post'\r\n",
        "padding_type='post'\r\n",
        "oov_tok = \"<OOV>\"\r\n",
        "training_size = 20000\r\n"
      ],
      "execution_count": 4,
      "outputs": []
    },
    {
      "cell_type": "code",
      "metadata": {
        "colab": {
          "base_uri": "https://localhost:8080/"
        },
        "id": "7uVCCv6QTWDt",
        "outputId": "c2c52ea8-556e-48cd-de1f-4edf4cf7a06d"
      },
      "source": [
        "!wget --no-check-certificate \\\r\n",
        "    https://storage.googleapis.com/laurencemoroney-blog.appspot.com/sarcasm.json \\\r\n",
        "    -O /tmp/sarcasm.json\r\n"
      ],
      "execution_count": 5,
      "outputs": [
        {
          "output_type": "stream",
          "text": [
            "--2020-12-29 11:41:26--  https://storage.googleapis.com/laurencemoroney-blog.appspot.com/sarcasm.json\n",
            "Resolving storage.googleapis.com (storage.googleapis.com)... 74.125.20.128, 74.125.197.128, 74.125.195.128, ...\n",
            "Connecting to storage.googleapis.com (storage.googleapis.com)|74.125.20.128|:443... connected.\n",
            "HTTP request sent, awaiting response... 200 OK\n",
            "Length: 5643545 (5.4M) [application/json]\n",
            "Saving to: ‘/tmp/sarcasm.json’\n",
            "\n",
            "\r/tmp/sarcasm.json     0%[                    ]       0  --.-KB/s               \r/tmp/sarcasm.json   100%[===================>]   5.38M  --.-KB/s    in 0.02s   \n",
            "\n",
            "2020-12-29 11:41:26 (217 MB/s) - ‘/tmp/sarcasm.json’ saved [5643545/5643545]\n",
            "\n"
          ],
          "name": "stdout"
        }
      ]
    },
    {
      "cell_type": "code",
      "metadata": {
        "id": "LXcnwTYETZJ1"
      },
      "source": [
        "with open(\"/tmp/sarcasm.json\", 'r') as f:\r\n",
        "    datastore = json.load(f)\r\n",
        "\r\n",
        "sentences = []\r\n",
        "labels = []\r\n",
        "\r\n",
        "for item in datastore:\r\n",
        "    sentences.append(item['headline'])\r\n",
        "    labels.append(item['is_sarcastic'])"
      ],
      "execution_count": 6,
      "outputs": []
    },
    {
      "cell_type": "code",
      "metadata": {
        "id": "umXbNY0BTa8g"
      },
      "source": [
        "training_sentences = sentences[0:training_size]\r\n",
        "testing_sentences = sentences[training_size:]\r\n",
        "training_labels = labels[0:training_size]\r\n",
        "testing_labels = labels[training_size:]"
      ],
      "execution_count": 7,
      "outputs": []
    },
    {
      "cell_type": "code",
      "metadata": {
        "id": "YuhCV_CCTe9U"
      },
      "source": [
        "tokenizer = Tokenizer(num_words=vocab_size, oov_token=oov_tok)\r\n",
        "tokenizer.fit_on_texts(training_sentences)\r\n",
        "\r\n",
        "word_index = tokenizer.word_index\r\n",
        "\r\n",
        "training_sequences = tokenizer.texts_to_sequences(training_sentences)\r\n",
        "training_padded = pad_sequences(training_sequences, maxlen=max_length, padding=padding_type, truncating=trunc_type)\r\n",
        "\r\n",
        "testing_sequences = tokenizer.texts_to_sequences(testing_sentences)\r\n",
        "testing_padded = pad_sequences(testing_sequences, maxlen=max_length, padding=padding_type, truncating=trunc_type)"
      ],
      "execution_count": 9,
      "outputs": []
    },
    {
      "cell_type": "code",
      "metadata": {
        "id": "dzSty9BXTiZL"
      },
      "source": [
        "# Need this block to get it to work with TensorFlow 2.x\r\n",
        "import numpy as np\r\n",
        "training_padded = np.array(training_padded)\r\n",
        "training_labels = np.array(training_labels)\r\n",
        "testing_padded = np.array(testing_padded)\r\n",
        "testing_labels = np.array(testing_labels)"
      ],
      "execution_count": 11,
      "outputs": []
    },
    {
      "cell_type": "code",
      "metadata": {
        "id": "LAJL1bXOTmvI"
      },
      "source": [
        "model = tf.keras.Sequential([\r\n",
        "    tf.keras.layers.Embedding(vocab_size, embedding_dim, input_length=max_length),\r\n",
        "    tf.keras.layers.GlobalAveragePooling1D(),\r\n",
        "    tf.keras.layers.Dense(24, activation='relu'),\r\n",
        "    tf.keras.layers.Dense(1, activation='sigmoid')\r\n",
        "])\r\n",
        "model.compile(loss='binary_crossentropy',optimizer='adam',metrics=['accuracy'])"
      ],
      "execution_count": 12,
      "outputs": []
    },
    {
      "cell_type": "code",
      "metadata": {
        "colab": {
          "base_uri": "https://localhost:8080/"
        },
        "id": "HC76JC5LTtxL",
        "outputId": "7237a349-e4ab-4906-bf45-6bf95a929c7b"
      },
      "source": [
        "model.summary()\r\n"
      ],
      "execution_count": 13,
      "outputs": [
        {
          "output_type": "stream",
          "text": [
            "Model: \"sequential\"\n",
            "_________________________________________________________________\n",
            "Layer (type)                 Output Shape              Param #   \n",
            "=================================================================\n",
            "embedding (Embedding)        (None, 100, 16)           160000    \n",
            "_________________________________________________________________\n",
            "global_average_pooling1d (Gl (None, 16)                0         \n",
            "_________________________________________________________________\n",
            "dense (Dense)                (None, 24)                408       \n",
            "_________________________________________________________________\n",
            "dense_1 (Dense)              (None, 1)                 25        \n",
            "=================================================================\n",
            "Total params: 160,433\n",
            "Trainable params: 160,433\n",
            "Non-trainable params: 0\n",
            "_________________________________________________________________\n"
          ],
          "name": "stdout"
        }
      ]
    },
    {
      "cell_type": "code",
      "metadata": {
        "colab": {
          "base_uri": "https://localhost:8080/"
        },
        "id": "URi1hugPTu6V",
        "outputId": "45529b8b-4bcc-4200-b795-42b29d45547c"
      },
      "source": [
        "num_epochs = 30\r\n",
        "history = model.fit(training_padded, training_labels, epochs=num_epochs, validation_data=(testing_padded, testing_labels), verbose=2)"
      ],
      "execution_count": 14,
      "outputs": [
        {
          "output_type": "stream",
          "text": [
            "Epoch 1/30\n",
            "625/625 - 4s - loss: 0.6720 - accuracy: 0.5767 - val_loss: 0.6082 - val_accuracy: 0.6785\n",
            "Epoch 2/30\n",
            "625/625 - 2s - loss: 0.4462 - accuracy: 0.8238 - val_loss: 0.3870 - val_accuracy: 0.8405\n",
            "Epoch 3/30\n",
            "625/625 - 2s - loss: 0.3152 - accuracy: 0.8752 - val_loss: 0.3549 - val_accuracy: 0.8512\n",
            "Epoch 4/30\n",
            "625/625 - 2s - loss: 0.2623 - accuracy: 0.8972 - val_loss: 0.3473 - val_accuracy: 0.8550\n",
            "Epoch 5/30\n",
            "625/625 - 2s - loss: 0.2269 - accuracy: 0.9127 - val_loss: 0.3437 - val_accuracy: 0.8550\n",
            "Epoch 6/30\n",
            "625/625 - 2s - loss: 0.1999 - accuracy: 0.9237 - val_loss: 0.3533 - val_accuracy: 0.8511\n",
            "Epoch 7/30\n",
            "625/625 - 2s - loss: 0.1776 - accuracy: 0.9336 - val_loss: 0.3607 - val_accuracy: 0.8530\n",
            "Epoch 8/30\n",
            "625/625 - 2s - loss: 0.1598 - accuracy: 0.9413 - val_loss: 0.3741 - val_accuracy: 0.8545\n",
            "Epoch 9/30\n",
            "625/625 - 2s - loss: 0.1439 - accuracy: 0.9479 - val_loss: 0.3911 - val_accuracy: 0.8535\n",
            "Epoch 10/30\n",
            "625/625 - 2s - loss: 0.1298 - accuracy: 0.9543 - val_loss: 0.4262 - val_accuracy: 0.8436\n",
            "Epoch 11/30\n",
            "625/625 - 2s - loss: 0.1180 - accuracy: 0.9596 - val_loss: 0.4321 - val_accuracy: 0.8477\n",
            "Epoch 12/30\n",
            "625/625 - 2s - loss: 0.1077 - accuracy: 0.9624 - val_loss: 0.4554 - val_accuracy: 0.8454\n",
            "Epoch 13/30\n",
            "625/625 - 2s - loss: 0.0995 - accuracy: 0.9657 - val_loss: 0.4815 - val_accuracy: 0.8439\n",
            "Epoch 14/30\n",
            "625/625 - 2s - loss: 0.0917 - accuracy: 0.9684 - val_loss: 0.5215 - val_accuracy: 0.8374\n",
            "Epoch 15/30\n",
            "625/625 - 2s - loss: 0.0846 - accuracy: 0.9714 - val_loss: 0.5485 - val_accuracy: 0.8378\n",
            "Epoch 16/30\n",
            "625/625 - 2s - loss: 0.0777 - accuracy: 0.9750 - val_loss: 0.5622 - val_accuracy: 0.8383\n",
            "Epoch 17/30\n",
            "625/625 - 2s - loss: 0.0719 - accuracy: 0.9761 - val_loss: 0.5916 - val_accuracy: 0.8356\n",
            "Epoch 18/30\n",
            "625/625 - 2s - loss: 0.0654 - accuracy: 0.9795 - val_loss: 0.6247 - val_accuracy: 0.8334\n",
            "Epoch 19/30\n",
            "625/625 - 2s - loss: 0.0599 - accuracy: 0.9807 - val_loss: 0.6574 - val_accuracy: 0.8305\n",
            "Epoch 20/30\n",
            "625/625 - 2s - loss: 0.0543 - accuracy: 0.9833 - val_loss: 0.6964 - val_accuracy: 0.8286\n",
            "Epoch 21/30\n",
            "625/625 - 2s - loss: 0.0499 - accuracy: 0.9859 - val_loss: 0.7309 - val_accuracy: 0.8268\n",
            "Epoch 22/30\n",
            "625/625 - 2s - loss: 0.0472 - accuracy: 0.9857 - val_loss: 0.7934 - val_accuracy: 0.8243\n",
            "Epoch 23/30\n",
            "625/625 - 2s - loss: 0.0445 - accuracy: 0.9867 - val_loss: 0.8241 - val_accuracy: 0.8222\n",
            "Epoch 24/30\n",
            "625/625 - 2s - loss: 0.0418 - accuracy: 0.9870 - val_loss: 0.8617 - val_accuracy: 0.8208\n",
            "Epoch 25/30\n",
            "625/625 - 2s - loss: 0.0369 - accuracy: 0.9897 - val_loss: 0.8787 - val_accuracy: 0.8207\n",
            "Epoch 26/30\n",
            "625/625 - 2s - loss: 0.0330 - accuracy: 0.9901 - val_loss: 0.9165 - val_accuracy: 0.8201\n",
            "Epoch 27/30\n",
            "625/625 - 2s - loss: 0.0327 - accuracy: 0.9895 - val_loss: 0.9591 - val_accuracy: 0.8179\n",
            "Epoch 28/30\n",
            "625/625 - 2s - loss: 0.0308 - accuracy: 0.9910 - val_loss: 1.0184 - val_accuracy: 0.8165\n",
            "Epoch 29/30\n",
            "625/625 - 2s - loss: 0.0269 - accuracy: 0.9923 - val_loss: 1.0353 - val_accuracy: 0.8152\n",
            "Epoch 30/30\n",
            "625/625 - 2s - loss: 0.0246 - accuracy: 0.9928 - val_loss: 1.1339 - val_accuracy: 0.8131\n"
          ],
          "name": "stdout"
        }
      ]
    },
    {
      "cell_type": "code",
      "metadata": {
        "colab": {
          "base_uri": "https://localhost:8080/",
          "height": 541
        },
        "id": "2e8sbk7DTxAT",
        "outputId": "21b158bb-dd46-4878-cab0-bcad9c0bd931"
      },
      "source": [
        "import matplotlib.pyplot as plt\r\n",
        "\r\n",
        "\r\n",
        "def plot_graphs(history, string):\r\n",
        "  plt.plot(history.history[string])\r\n",
        "  plt.plot(history.history['val_'+string])\r\n",
        "  plt.xlabel(\"Epochs\")\r\n",
        "  plt.ylabel(string)\r\n",
        "  plt.legend([string, 'val_'+string])\r\n",
        "  plt.show()\r\n",
        "  \r\n",
        "plot_graphs(history, \"accuracy\")\r\n",
        "plot_graphs(history, \"loss\")"
      ],
      "execution_count": 15,
      "outputs": [
        {
          "output_type": "display_data",
          "data": {
            "image/png": "[encoded data removed]",
            "text/plain": [
              "<Figure size 432x288 with 1 Axes>"
            ]
          },
          "metadata": {
            "tags": [],
            "needs_background": "light"
          }
        },
        {
          "output_type": "display_data",
          "data": {
            "image/png": "[encoded data removed]",
            "text/plain": [
              "<Figure size 432x288 with 1 Axes>"
            ]
          },
          "metadata": {
            "tags": [],
            "needs_background": "light"
          }
        }
      ]
    },
    {
      "cell_type": "code",
      "metadata": {
        "colab": {
          "base_uri": "https://localhost:8080/"
        },
        "id": "rD71x00uTyb4",
        "outputId": "c0cb1957-ca88-4c08-97ec-d71a296cdbfb"
      },
      "source": [
        "reverse_word_index = dict([(value, key) for (key, value) in word_index.items()])\r\n",
        "\r\n",
        "def decode_sentence(text):\r\n",
        "    return ' '.join([reverse_word_index.get(i, '?') for i in text])\r\n",
        "\r\n",
        "print(decode_sentence(training_padded[0]))\r\n",
        "print(training_sentences[2])\r\n",
        "print(labels[2])"
      ],
      "execution_count": 16,
      "outputs": [
        {
          "output_type": "stream",
          "text": [
            "former <OOV> store clerk sues over secret 'black <OOV> for minority shoppers ? ? ? ? ? ? ? ? ? ? ? ? ? ? ? ? ? ? ? ? ? ? ? ? ? ? ? ? ? ? ? ? ? ? ? ? ? ? ? ? ? ? ? ? ? ? ? ? ? ? ? ? ? ? ? ? ? ? ? ? ? ? ? ? ? ? ? ? ? ? ? ? ? ? ? ? ? ? ? ? ? ? ? ? ? ? ? ?\n",
            "mom starting to fear son's web series closest thing she will have to grandchild\n",
            "1\n"
          ],
          "name": "stdout"
        }
      ]
    },
    {
      "cell_type": "code",
      "metadata": {
        "colab": {
          "base_uri": "https://localhost:8080/"
        },
        "id": "_jgURMnpT0TS",
        "outputId": "cc73f07c-6f4c-45ef-a63f-c753b055b8a1"
      },
      "source": [
        "e = model.layers[0]\r\n",
        "weights = e.get_weights()[0]\r\n",
        "print(weights.shape) # shape: (vocab_size, embedding_dim)\r\n"
      ],
      "execution_count": 17,
      "outputs": [
        {
          "output_type": "stream",
          "text": [
            "(10000, 16)\n"
          ],
          "name": "stdout"
        }
      ]
    },
    {
      "cell_type": "code",
      "metadata": {
        "id": "tjRpqgLjT10Y"
      },
      "source": [
        "import io\r\n",
        "\r\n",
        "out_v = io.open('vecs.tsv', 'w', encoding='utf-8')\r\n",
        "out_m = io.open('meta.tsv', 'w', encoding='utf-8')\r\n",
        "for word_num in range(1, vocab_size):\r\n",
        "  word = reverse_word_index[word_num]\r\n",
        "  embeddings = weights[word_num]\r\n",
        "  out_m.write(word + \"\\n\")\r\n",
        "  out_v.write('\\t'.join([str(x) for x in embeddings]) + \"\\n\")\r\n",
        "out_v.close()\r\n",
        "out_m.close()"
      ],
      "execution_count": 18,
      "outputs": []
    },
    {
      "cell_type": "code",
      "metadata": {
        "id": "SmRCI5mlT2_u"
      },
      "source": [
        "try:\r\n",
        "  from google.colab import files\r\n",
        "except ImportError:\r\n",
        "  pass\r\n",
        "else:\r\n",
        "  files.download('vecs.tsv')\r\n",
        "  files.download('meta.tsv')"
      ],
      "execution_count": null,
      "outputs": []
    },
    {
      "cell_type": "code",
      "metadata": {
        "colab": {
          "base_uri": "https://localhost:8080/"
        },
        "id": "Z-yEF33gT4mA",
        "outputId": "d4c9c948-8f92-4e37-878d-7b65bc676caa"
      },
      "source": [
        "sentence = [\"granny starting to fear spiders in the garden might be real\", \"game of thrones season finale showing this sunday night\"]\r\n",
        "sequences = tokenizer.texts_to_sequences(sentence)\r\n",
        "padded = pad_sequences(sequences, maxlen=max_length, padding=padding_type, truncating=trunc_type)\r\n",
        "print(model.predict(padded))"
      ],
      "execution_count": 19,
      "outputs": [
        {
          "output_type": "stream",
          "text": [
            "[[6.6012764e-01]\n",
            " [6.6885548e-07]]\n"
          ],
          "name": "stdout"
        }
      ]
    }
  ]
}